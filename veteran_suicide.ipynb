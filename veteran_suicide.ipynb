{
 "cells": [
  {
   "cell_type": "markdown",
   "metadata": {},
   "source": [
    "# Simple Application of Bayes Theorem\n",
    "## US Veteran Suicide Probability"
   ]
  },
  {
   "cell_type": "markdown",
   "metadata": {},
   "source": [
    "### 1. Understading Bayes Theorem"
   ]
  },
  {
   "cell_type": "markdown",
   "metadata": {},
   "source": [
    "Bayes Theorem:\n",
    "\n",
    "P(A|B) = ( P(B|A)*P(A) ) / P(B)\n"
   ]
  },
  {
   "cell_type": "markdown",
   "metadata": {},
   "source": [
    "For this project:\n",
    "\n",
    "Events:\n",
    "\n",
    "- A = Person dies by suicide\n",
    "- B = Person is a U.S military veteran\n",
    "\n",
    "Probabilities:\n",
    "\n",
    "- P(A) = Probability of suicide in U.S population\n",
    "- P(B) = Prob of being a veteran in the U.S\n",
    "- P(A|B) = Prob of suicide given the person is U.S veterans (goal to work out)\n",
    "- P(B|A) = Prob of a person being a veteran given they died by suicide"
   ]
  },
  {
   "cell_type": "markdown",
   "metadata": {},
   "source": [
    "### 2. Data"
   ]
  },
  {
   "cell_type": "markdown",
   "metadata": {},
   "source": [
    "Source data from reputable sources.\n",
    "\n",
    "All data will be from 2022.\n",
    "\n",
    "- U.S Population, U.S Census Bureau = 333_000_000\n",
    "- Number of veterans, U.S Department of Veterans Affairs = 16_500_000\n",
    "- Suicide in U.S population, CDC National Center for Health Statistics = 46_476\n",
    "- Veteran suicides, U.S Department of Veterans Affairs = 6_392\n",
    "\n",
    "References:\n",
    "\n",
    "- VA 2024 National Veteran Suicide Prevention Annual Report (released December 2024, covering 2001–2022 data).\n",
    "- CDC National Center for Health Statistics, WONDER Database (2022 suicide data).\n",
    "- U.S. Census Bureau population estimates.\n",
    "\n"
   ]
  },
  {
   "cell_type": "markdown",
   "metadata": {},
   "source": [
    "### 3. Manual Calculations"
   ]
  },
  {
   "cell_type": "markdown",
   "metadata": {},
   "source": [
    "#### Probability of suicide in U.S population\n",
    "\n",
    "- P(A) = total suicides / total us population\n",
    "     - = 46_476 / 333_000_000\n",
    "     - = 0.0001486\n",
    "\n",
    "#### P(B) = Prob of being a veteran in the U.S\n",
    "\n",
    "- P(B) = veterans / total us population\n",
    "     - = 16_500_00 / 333_000_000\n",
    "     - = 0.04955\n",
    "\n",
    "####  P(B|A) = Prob being a veteran given suicide\n",
    "\n",
    "- P(B|A) = veteran suicides / total suicides\n",
    "     - = 6_392 / 49_476\n",
    "     - = 0.1292\n",
    "\n",
    "#### P(A|B) = Prob of suicide given person is veteran - bayes theorem\n",
    "\n",
    "- P(A|B) = ( P(B|A) * P(A) ) / P(B)\n",
    "     - = ( 0.1292 * 0.0001486 ) / 0.04955\n",
    "     - = 0.0003876"
   ]
  },
  {
   "cell_type": "markdown",
   "metadata": {},
   "source": [
    "### 4. Python Implementation"
   ]
  },
  {
   "cell_type": "code",
   "execution_count": 7,
   "metadata": {},
   "outputs": [
    {
     "name": "stdout",
     "output_type": "stream",
     "text": [
      "Probability of suicide (general population): 0.0001486\n",
      "Probability of being a veteran: 0.04955\n",
      "Probability of veteran given suicide: 0.12919\n",
      "Probability of suicide given veteran: 0.0003874\n",
      "Veterans are 2.61 times more likely to die by suicide.\n"
     ]
    },
    {
     "data": {
      "image/png": "[encoded data removed]",
      "text/plain": [
       "<Figure size 432x288 with 1 Axes>"
      ]
     },
     "metadata": {
      "needs_background": "light"
     },
     "output_type": "display_data"
    }
   ],
   "source": [
    "import numpy as np\n",
    "import matplotlib.pyplot as plt\n",
    "\n",
    "# Data (2022)\n",
    "total_population = 333_000_000\n",
    "total_suicides = 49_476\n",
    "veteran_population = 16_500_000\n",
    "veteran_suicides = 6_392\n",
    "\n",
    "# Probabilities\n",
    "P_A = total_suicides / total_population  # P(suicide)\n",
    "P_B = veteran_population / total_population  # P(veteran)\n",
    "P_B_given_A = veteran_suicides / total_suicides  # P(veteran | suicide)\n",
    "\n",
    "# Bayes' Theorem: P(A|B) = P(B|A) * P(A) / P(B)\n",
    "P_A_given_B = (P_B_given_A * P_A) / P_B  # P(suicide | veteran)\n",
    "\n",
    "# Output results\n",
    "print(f\"Probability of suicide (general population): {P_A:.7f}\")\n",
    "print(f\"Probability of being a veteran: {P_B:.5f}\")\n",
    "print(f\"Probability of veteran given suicide: {P_B_given_A:.5f}\")\n",
    "print(f\"Probability of suicide given veteran: {P_A_given_B:.7f}\")\n",
    "print(f\"Veterans are {P_A_given_B / P_A:.2f} times more likely to die by suicide.\")\n",
    "\n",
    "# Plot\n",
    "labels = ['General Population', 'Veterans']\n",
    "probs = [P_A, P_A_given_B]\n",
    "plt.bar(labels, probs, color=['blue', 'red'])\n",
    "plt.title('Suicide Probability: General Population vs. Veterans (2022)')\n",
    "plt.ylabel('Probability')\n",
    "plt.text(0, P_A + 0.000005, f\"{P_A:.7f}\", ha='center')\n",
    "plt.text(1, P_A_given_B + 0.000005, f\"{P_A_given_B:.7f}\", ha='center')\n",
    "plt.savefig('suicide_probability_comparison.png')\n",
    "plt.show()"
   ]
  }
 ],
 "metadata": {
  "kernelspec": {
   "display_name": "base",
   "language": "python",
   "name": "python3"
  },
  "language_info": {
   "codemirror_mode": {
    "name": "ipython",
    "version": 3
   },
   "file_extension": ".py",
   "mimetype": "text/x-python",
   "name": "python",
   "nbconvert_exporter": "python",
   "pygments_lexer": "ipython3",
   "version": "3.9.12"
  }
 },
 "nbformat": 4,
 "nbformat_minor": 2
}
